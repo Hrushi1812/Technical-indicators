{
  "nbformat": 4,
  "nbformat_minor": 0,
  "metadata": {
    "colab": {
      "provenance": [],
      "authorship_tag": "ABX9TyO7cn8m+7qprmTVIA02N6b7",
      "include_colab_link": true
    },
    "kernelspec": {
      "name": "python3",
      "display_name": "Python 3"
    },
    "language_info": {
      "name": "python"
    }
  },
  "cells": [
    {
      "cell_type": "markdown",
      "metadata": {
        "id": "view-in-github",
        "colab_type": "text"
      },
      "source": [
        "<a href=\"https://colab.research.google.com/github/Hrushi1812/Technical-indicators/blob/main/Task3.ipynb\" target=\"_parent\"><img src=\"https://colab.research.google.com/assets/colab-badge.svg\" alt=\"Open In Colab\"/></a>"
      ]
    },
    {
      "cell_type": "code",
      "execution_count": 1,
      "metadata": {
        "colab": {
          "base_uri": "https://localhost:8080/"
        },
        "id": "rdVRU6Tpg9Wl",
        "outputId": "3cd17600-ab5e-4348-ceea-1114b0ccb357"
      },
      "outputs": [
        {
          "output_type": "stream",
          "name": "stdout",
          "text": [
            "Collecting pandas_ta\n",
            "  Downloading pandas_ta-0.3.14b.tar.gz (115 kB)\n",
            "\u001b[2K     \u001b[90m━━━━━━━━━━━━━━━━━━━━━━━━━━━━━━━━━━━━━━━━\u001b[0m \u001b[32m115.1/115.1 kB\u001b[0m \u001b[31m1.2 MB/s\u001b[0m eta \u001b[36m0:00:00\u001b[0m\n",
            "\u001b[?25h  Preparing metadata (setup.py) ... \u001b[?25l\u001b[?25hdone\n",
            "Requirement already satisfied: pandas in /usr/local/lib/python3.10/dist-packages (from pandas_ta) (1.5.3)\n",
            "Requirement already satisfied: python-dateutil>=2.8.1 in /usr/local/lib/python3.10/dist-packages (from pandas->pandas_ta) (2.8.2)\n",
            "Requirement already satisfied: pytz>=2020.1 in /usr/local/lib/python3.10/dist-packages (from pandas->pandas_ta) (2023.3.post1)\n",
            "Requirement already satisfied: numpy>=1.21.0 in /usr/local/lib/python3.10/dist-packages (from pandas->pandas_ta) (1.23.5)\n",
            "Requirement already satisfied: six>=1.5 in /usr/local/lib/python3.10/dist-packages (from python-dateutil>=2.8.1->pandas->pandas_ta) (1.16.0)\n",
            "Building wheels for collected packages: pandas_ta\n",
            "  Building wheel for pandas_ta (setup.py) ... \u001b[?25l\u001b[?25hdone\n",
            "  Created wheel for pandas_ta: filename=pandas_ta-0.3.14b0-py3-none-any.whl size=218907 sha256=d5e5ad9458ce5cc3fc9e14f31982b2fa0f43546642a59a444fa8aff98e39d71e\n",
            "  Stored in directory: /root/.cache/pip/wheels/69/00/ac/f7fa862c34b0e2ef320175100c233377b4c558944f12474cf0\n",
            "Successfully built pandas_ta\n",
            "Installing collected packages: pandas_ta\n",
            "Successfully installed pandas_ta-0.3.14b0\n"
          ]
        }
      ],
      "source": [
        "!pip install pandas_ta"
      ]
    },
    {
      "cell_type": "code",
      "source": [
        "import yfinance as yf\n",
        "import pandas as pd\n",
        "import pandas_ta as ta\n",
        "import numpy as np\n",
        "import matplotlib.pyplot as plt"
      ],
      "metadata": {
        "colab": {
          "base_uri": "https://localhost:8080/"
        },
        "id": "SW022we5g9-J",
        "outputId": "1172656b-4b30-4e32-cc6f-a08b26e2a2c3"
      },
      "execution_count": 2,
      "outputs": [
        {
          "output_type": "stream",
          "name": "stderr",
          "text": [
            "/usr/local/lib/python3.10/dist-packages/yfinance/base.py:48: FutureWarning: The default dtype for empty Series will be 'object' instead of 'float64' in a future version. Specify a dtype explicitly to silence this warning.\n",
            "  _empty_series = pd.Series()\n"
          ]
        }
      ]
    },
    {
      "cell_type": "code",
      "source": [
        "df = pd.read_csv(\"MW-NIFTY-50-30-Jan-2024.csv\")\n",
        "\n",
        "stocks = df['SYMBOL \\n'].tolist()\n",
        "\n",
        "for i in range(1, len(stocks)):\n",
        "    stocks[i] = stocks[i] + \".NS\"\n",
        "\n",
        "nifty_50_symbols = stocks[1:]"
      ],
      "metadata": {
        "id": "kTRY3RKSmy1D"
      },
      "execution_count": 34,
      "outputs": []
    },
    {
      "cell_type": "code",
      "source": [
        "rsi_data = pd.DataFrame()\n",
        "macd_data = pd.DataFrame()"
      ],
      "metadata": {
        "id": "H1ZKUGDDhFoW"
      },
      "execution_count": 45,
      "outputs": []
    },
    {
      "cell_type": "code",
      "source": [
        "for symbol in nifty_50_symbols:\n",
        "    data = yf.download(symbol, start=\"2023-01-30\", end=\"2024-01-30\")\n",
        "\n",
        "    # Calculate RSI over a longer period (1 year)\n",
        "    rsi = ta.rsi(data['Close'], length=14)\n",
        "    rsi_data[symbol] = rsi\n",
        "\n",
        "    macd = ta.macd(data['Close'])\n",
        "    macd_data[symbol] = macd['MACD_12_26_9']"
      ],
      "metadata": {
        "colab": {
          "base_uri": "https://localhost:8080/"
        },
        "id": "c-dcZX1QhKF6",
        "outputId": "8319c7b2-b1c9-49e8-ea41-4485cf7de412"
      },
      "execution_count": 70,
      "outputs": [
        {
          "output_type": "stream",
          "name": "stderr",
          "text": [
            "[*********************100%%**********************]  1 of 1 completed\n",
            "[*********************100%%**********************]  1 of 1 completed\n",
            "[*********************100%%**********************]  1 of 1 completed\n",
            "[*********************100%%**********************]  1 of 1 completed\n",
            "[*********************100%%**********************]  1 of 1 completed\n",
            "[*********************100%%**********************]  1 of 1 completed\n",
            "[*********************100%%**********************]  1 of 1 completed\n",
            "[*********************100%%**********************]  1 of 1 completed\n",
            "[*********************100%%**********************]  1 of 1 completed\n",
            "[*********************100%%**********************]  1 of 1 completed\n",
            "[*********************100%%**********************]  1 of 1 completed\n",
            "[*********************100%%**********************]  1 of 1 completed\n",
            "[*********************100%%**********************]  1 of 1 completed\n",
            "[*********************100%%**********************]  1 of 1 completed\n",
            "[*********************100%%**********************]  1 of 1 completed\n",
            "[*********************100%%**********************]  1 of 1 completed\n",
            "[*********************100%%**********************]  1 of 1 completed\n",
            "[*********************100%%**********************]  1 of 1 completed\n",
            "[*********************100%%**********************]  1 of 1 completed\n",
            "[*********************100%%**********************]  1 of 1 completed\n",
            "[*********************100%%**********************]  1 of 1 completed\n",
            "[*********************100%%**********************]  1 of 1 completed\n",
            "[*********************100%%**********************]  1 of 1 completed\n",
            "[*********************100%%**********************]  1 of 1 completed\n",
            "[*********************100%%**********************]  1 of 1 completed\n",
            "[*********************100%%**********************]  1 of 1 completed\n",
            "[*********************100%%**********************]  1 of 1 completed\n",
            "[*********************100%%**********************]  1 of 1 completed\n",
            "[*********************100%%**********************]  1 of 1 completed\n",
            "[*********************100%%**********************]  1 of 1 completed\n",
            "[*********************100%%**********************]  1 of 1 completed\n",
            "[*********************100%%**********************]  1 of 1 completed\n",
            "[*********************100%%**********************]  1 of 1 completed\n",
            "[*********************100%%**********************]  1 of 1 completed\n",
            "[*********************100%%**********************]  1 of 1 completed\n",
            "[*********************100%%**********************]  1 of 1 completed\n",
            "[*********************100%%**********************]  1 of 1 completed\n",
            "[*********************100%%**********************]  1 of 1 completed\n",
            "[*********************100%%**********************]  1 of 1 completed\n",
            "[*********************100%%**********************]  1 of 1 completed\n",
            "[*********************100%%**********************]  1 of 1 completed\n",
            "[*********************100%%**********************]  1 of 1 completed\n",
            "[*********************100%%**********************]  1 of 1 completed\n",
            "[*********************100%%**********************]  1 of 1 completed\n",
            "[*********************100%%**********************]  1 of 1 completed\n",
            "[*********************100%%**********************]  1 of 1 completed\n",
            "[*********************100%%**********************]  1 of 1 completed\n",
            "[*********************100%%**********************]  1 of 1 completed\n",
            "[*********************100%%**********************]  1 of 1 completed\n",
            "[*********************100%%**********************]  1 of 1 completed\n"
          ]
        }
      ]
    },
    {
      "cell_type": "code",
      "source": [
        "rsi_normalized = (rsi_data - rsi_data.min()) / (rsi_data.max() - rsi_data.min())\n",
        "rsi_normalized = rsi_normalized.fillna(0)  # Fill NaN values with 0\n",
        "rsi_ranks = (rsi_normalized * (len(rsi_data) - 1)).round().astype(int)\n",
        "\n",
        "macd_normalized = (macd_data - macd_data.min()) / (macd_data.max() - macd_data.min())\n",
        "macd_normalized = macd_normalized.fillna(0)  # Fill NaN values with 0\n",
        "macd_ranks = (macd_normalized * (len(macd_data) - 1)).round().astype(int)\n",
        "\n",
        "combined_ranks = rsi_ranks + macd_ranks\n",
        "\n",
        "sorted_stocks = combined_ranks.sum().sort_values(ascending=False)"
      ],
      "metadata": {
        "id": "kSywDcGphL6u"
      },
      "execution_count": 71,
      "outputs": []
    },
    {
      "cell_type": "code",
      "source": [
        "initial_capital = 1000000\n",
        "\n",
        "num_top_stocks = 10\n",
        "\n",
        "top_stocks = sorted_stocks.head(num_top_stocks)\n",
        "\n",
        "capital_allocation = initial_capital / num_top_stocks"
      ],
      "metadata": {
        "id": "ILoKGGt3wEwZ"
      },
      "execution_count": 72,
      "outputs": []
    },
    {
      "cell_type": "code",
      "source": [
        "print(\"Top Stocks and Capital Allocation:\")\n",
        "print(top_stocks)\n",
        "print(\"Capital Allocation per Stock:\", capital_allocation)"
      ],
      "metadata": {
        "colab": {
          "base_uri": "https://localhost:8080/"
        },
        "id": "XqU6wo8Kwq46",
        "outputId": "e6eebcf2-4a6b-4db1-9781-d51944ef9e71"
      },
      "execution_count": 73,
      "outputs": [
        {
          "output_type": "stream",
          "name": "stdout",
          "text": [
            "Top Stocks and Capital Allocation:\n",
            "TATAMOTORS.NS    58777\n",
            "SBILIFE.NS       58251\n",
            "INDUSINDBK.NS    57902\n",
            "ONGC.NS          57785\n",
            "DIVISLAB.NS      57206\n",
            "ASIANPAINT.NS    56854\n",
            "TATASTEEL.NS     56822\n",
            "TITAN.NS         56810\n",
            "SUNPHARMA.NS     56423\n",
            "BAJFINANCE.NS    54503\n",
            "dtype: int64\n",
            "Capital Allocation per Stock: 100000.0\n"
          ]
        }
      ]
    },
    {
      "cell_type": "code",
      "source": [
        "total_investment = 0\n",
        "for symbol in top_stocks.index:\n",
        "    data = yf.download(symbol, start=\"2023-01-30\", end=\"2024-01-30\")\n",
        "    last_close_price = data['Close'].iloc[-1]\n",
        "    shares_to_buy = capital_allocation / last_close_price\n",
        "    investment_value = shares_to_buy * last_close_price\n",
        "    print(f\"Buy {shares_to_buy:.2f} shares of {symbol} at ${last_close_price:.2f} per share\")\n",
        "    total_investment += investment_value"
      ],
      "metadata": {
        "colab": {
          "base_uri": "https://localhost:8080/"
        },
        "id": "wZ7Jb6N0wuvK",
        "outputId": "643231ea-13c3-49ba-b71a-65abd56c19e4"
      },
      "execution_count": 78,
      "outputs": [
        {
          "output_type": "stream",
          "name": "stderr",
          "text": [
            "[*********************100%%**********************]  1 of 1 completed\n",
            "[*********************100%%**********************]  1 of 1 completed\n",
            "[*********************100%%**********************]  1 of 1 completed\n",
            "[*********************100%%**********************]  1 of 1 completed\n",
            "[*********************100%%**********************]  1 of 1 completed\n",
            "[*********************100%%**********************]  1 of 1 completed\n",
            "[*********************100%%**********************]  1 of 1 completed\n",
            "[*********************100%%**********************]  1 of 1 completed\n"
          ]
        },
        {
          "output_type": "stream",
          "name": "stdout",
          "text": [
            "Buy 118.91 shares of TATAMOTORS.NS at $841.00 per share\n",
            "Buy 70.50 shares of SBILIFE.NS at $1418.40 per share\n",
            "Buy 65.50 shares of INDUSINDBK.NS at $1526.80 per share\n",
            "Buy 396.04 shares of ONGC.NS at $252.50 per share\n",
            "Buy 28.01 shares of DIVISLAB.NS at $3570.60 per share\n",
            "Buy 33.60 shares of ASIANPAINT.NS at $2976.05 per share\n",
            "Buy 740.74 shares of TATASTEEL.NS at $135.00 per share\n",
            "Buy 25.86 shares of TITAN.NS at $3866.65 per share\n"
          ]
        },
        {
          "output_type": "stream",
          "name": "stderr",
          "text": [
            "[*********************100%%**********************]  1 of 1 completed\n",
            "[*********************100%%**********************]  1 of 1 completed"
          ]
        },
        {
          "output_type": "stream",
          "name": "stdout",
          "text": [
            "Buy 71.39 shares of SUNPHARMA.NS at $1400.85 per share\n",
            "Buy 13.91 shares of BAJFINANCE.NS at $7191.65 per share\n"
          ]
        },
        {
          "output_type": "stream",
          "name": "stderr",
          "text": [
            "\n"
          ]
        }
      ]
    },
    {
      "cell_type": "code",
      "source": [
        "print(\"Total Investment:\", total_investment)"
      ],
      "metadata": {
        "colab": {
          "base_uri": "https://localhost:8080/"
        },
        "id": "VR51ARpswzwc",
        "outputId": "441a0dac-59ae-4710-a7b8-205c2f6236cb"
      },
      "execution_count": 79,
      "outputs": [
        {
          "output_type": "stream",
          "name": "stdout",
          "text": [
            "Total Investment: 1000000.0\n"
          ]
        }
      ]
    },
    {
      "cell_type": "code",
      "source": [
        "initial_capital = 1000000\n",
        "\n",
        "capital_allocation_per_stock = initial_capital / len(nifty_50_symbols)\n",
        "\n",
        "portfolio_values = []\n",
        "daily_returns = []\n",
        "\n",
        "for symbol in nifty_50_symbols:\n",
        "    data = yf.download(symbol, start=\"2023-01-30\", end=\"2024-01-30\")\n",
        "    closing_prices = data['Close']\n",
        "    buy_price = closing_prices.iloc[0]  # Buy price is the closing price on the first day\n",
        "    sell_price = closing_prices.iloc[-1]  # Sell price is the closing price on the last day\n",
        "    shares_bought = capital_allocation_per_stock / buy_price  # Calculate shares bought\n",
        "    portfolio_value = shares_bought * sell_price  # Calculate portfolio value at the end\n",
        "    portfolio_values.append(portfolio_value)\n",
        "    daily_return = (sell_price - buy_price) / buy_price  # Calculate daily return\n",
        "    daily_returns.append(daily_return)\n",
        "\n",
        "# Calculate total return of the benchmark\n",
        "total_return = np.mean(daily_returns) * len(daily_returns)\n",
        "\n",
        "# Calculate equity curve\n",
        "equity_curve = np.cumsum(portfolio_values)\n",
        "\n",
        "# Calculate maximum drawdown\n",
        "cum_max = np.maximum.accumulate(equity_curve)\n",
        "drawdown = (equity_curve - cum_max) / cum_max\n",
        "max_drawdown = np.max(drawdown)\n",
        "\n",
        "# Calculate and Plot Volatility\n",
        "volatility = np.std(daily_returns) * np.sqrt(252)  # Annualized volatility\n",
        "print(\"Total Return:\", total_return)\n",
        "print(\"Maximum Drawdown:\", max_drawdown)\n",
        "print(\"Volatility (Annualized):\", volatility)\n"
      ],
      "metadata": {
        "colab": {
          "base_uri": "https://localhost:8080/"
        },
        "id": "2A9bmqfmxMk-",
        "outputId": "a13bdb3b-022e-42bc-83a9-0360d856dc6b"
      },
      "execution_count": 81,
      "outputs": [
        {
          "output_type": "stream",
          "name": "stderr",
          "text": [
            "[*********************100%%**********************]  1 of 1 completed\n",
            "[*********************100%%**********************]  1 of 1 completed\n",
            "[*********************100%%**********************]  1 of 1 completed\n",
            "[*********************100%%**********************]  1 of 1 completed\n",
            "[*********************100%%**********************]  1 of 1 completed\n",
            "[*********************100%%**********************]  1 of 1 completed\n",
            "[*********************100%%**********************]  1 of 1 completed\n",
            "[*********************100%%**********************]  1 of 1 completed\n",
            "[*********************100%%**********************]  1 of 1 completed\n",
            "[*********************100%%**********************]  1 of 1 completed\n",
            "[*********************100%%**********************]  1 of 1 completed\n",
            "[*********************100%%**********************]  1 of 1 completed\n",
            "[*********************100%%**********************]  1 of 1 completed\n",
            "[*********************100%%**********************]  1 of 1 completed\n",
            "[*********************100%%**********************]  1 of 1 completed\n",
            "[*********************100%%**********************]  1 of 1 completed\n",
            "[*********************100%%**********************]  1 of 1 completed\n",
            "[*********************100%%**********************]  1 of 1 completed\n",
            "[*********************100%%**********************]  1 of 1 completed\n",
            "[*********************100%%**********************]  1 of 1 completed\n",
            "[*********************100%%**********************]  1 of 1 completed\n",
            "[*********************100%%**********************]  1 of 1 completed\n",
            "[*********************100%%**********************]  1 of 1 completed\n",
            "[*********************100%%**********************]  1 of 1 completed\n",
            "[*********************100%%**********************]  1 of 1 completed\n",
            "[*********************100%%**********************]  1 of 1 completed\n",
            "[*********************100%%**********************]  1 of 1 completed\n",
            "[*********************100%%**********************]  1 of 1 completed\n",
            "[*********************100%%**********************]  1 of 1 completed\n",
            "[*********************100%%**********************]  1 of 1 completed\n",
            "[*********************100%%**********************]  1 of 1 completed\n",
            "[*********************100%%**********************]  1 of 1 completed\n",
            "[*********************100%%**********************]  1 of 1 completed\n",
            "[*********************100%%**********************]  1 of 1 completed\n",
            "[*********************100%%**********************]  1 of 1 completed\n",
            "[*********************100%%**********************]  1 of 1 completed\n",
            "[*********************100%%**********************]  1 of 1 completed\n",
            "[*********************100%%**********************]  1 of 1 completed\n",
            "[*********************100%%**********************]  1 of 1 completed\n",
            "[*********************100%%**********************]  1 of 1 completed\n",
            "[*********************100%%**********************]  1 of 1 completed\n",
            "[*********************100%%**********************]  1 of 1 completed\n",
            "[*********************100%%**********************]  1 of 1 completed\n",
            "[*********************100%%**********************]  1 of 1 completed\n",
            "[*********************100%%**********************]  1 of 1 completed\n",
            "[*********************100%%**********************]  1 of 1 completed\n",
            "[*********************100%%**********************]  1 of 1 completed\n",
            "[*********************100%%**********************]  1 of 1 completed\n",
            "[*********************100%%**********************]  1 of 1 completed\n",
            "[*********************100%%**********************]  1 of 1 completed"
          ]
        },
        {
          "output_type": "stream",
          "name": "stdout",
          "text": [
            "Total Return: 15.337454236221499\n",
            "Maximum Drawdown: 0.0\n",
            "Volatility (Annualized): 5.30679874689163\n"
          ]
        },
        {
          "output_type": "stream",
          "name": "stderr",
          "text": [
            "\n"
          ]
        }
      ]
    },
    {
      "cell_type": "code",
      "source": [
        "# Plot Equity Curve\n",
        "plt.figure(figsize=(10, 6))\n",
        "plt.plot(equity_curve, label='Equity Curve')\n",
        "plt.title('Equity Curve - Benchmark Buy and Hold')\n",
        "plt.xlabel('Days')\n",
        "plt.ylabel('Portfolio Value ($)')\n",
        "plt.legend()\n",
        "plt.grid(True)\n",
        "plt.show()\n",
        "\n",
        "# Plot Drawdown Chart\n",
        "plt.figure(figsize=(10, 6))\n",
        "plt.plot(drawdown, label='Drawdown')\n",
        "plt.fill_between(range(len(drawdown)), drawdown, 0, color='red', alpha=0.3)\n",
        "plt.title('Drawdown Chart - Benchmark Buy and Hold')\n",
        "plt.xlabel('Days')\n",
        "plt.ylabel('Drawdown')\n",
        "plt.legend()\n",
        "plt.grid(True)\n",
        "plt.show()"
      ],
      "metadata": {
        "colab": {
          "base_uri": "https://localhost:8080/",
          "height": 1000
        },
        "id": "7YZjuygXykZ_",
        "outputId": "d494a28c-ac4b-44e0-d8a3-b21d578e3153"
      },
      "execution_count": 82,
      "outputs": [
        {
          "output_type": "display_data",
          "data": {
            "text/plain": [
              "<Figure size 1000x600 with 1 Axes>"
            ],
            "image/png": "[encoded data removed]"
          },
          "metadata": {}
        },
        {
          "output_type": "display_data",
          "data": {
            "text/plain": [
              "<Figure size 1000x600 with 1 Axes>"
            ],
            "image/png": "[encoded data removed]"
          },
          "metadata": {}
        }
      ]
    },
    {
      "cell_type": "code",
      "source": [],
      "metadata": {
        "id": "K3owWBgYxmWR"
      },
      "execution_count": null,
      "outputs": []
    }
  ]
}