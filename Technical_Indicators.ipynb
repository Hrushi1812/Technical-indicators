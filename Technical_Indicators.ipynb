{
  "nbformat": 4,
  "nbformat_minor": 0,
  "metadata": {
    "colab": {
      "provenance": [],
      "authorship_tag": "ABX9TyNB4hY9b8nW2WUsGR9UaVWA",
      "include_colab_link": true
    },
    "kernelspec": {
      "name": "python3",
      "display_name": "Python 3"
    },
    "language_info": {
      "name": "python"
    }
  },
  "cells": [
    {
      "cell_type": "markdown",
      "metadata": {
        "id": "view-in-github",
        "colab_type": "text"
      },
      "source": [
        "<a href=\"https://colab.research.google.com/github/Hrushi1812/Technical-indicators/blob/main/Technical_Indicators.ipynb\" target=\"_parent\"><img src=\"https://colab.research.google.com/assets/colab-badge.svg\" alt=\"Open In Colab\"/></a>"
      ]
    },
    {
      "cell_type": "markdown",
      "source": [
        "# **Technical Indicators**:\n"
      ],
      "metadata": {
        "id": "Y0PboCfyqSIf"
      }
    },
    {
      "cell_type": "code",
      "source": [
        "import pandas as pd\n",
        "import numpy as np\n",
        "import yfinance as yf\n",
        "import matplotlib.pyplot as plt"
      ],
      "metadata": {
        "id": "3mluvlacVyNN"
      },
      "execution_count": null,
      "outputs": []
    },
    {
      "cell_type": "code",
      "execution_count": null,
      "metadata": {
        "id": "vSO9MZVhVK01"
      },
      "outputs": [],
      "source": [
        "def get_stock_data(symbol, start_date, end_date):\n",
        "    data = yf.download(symbol, start=start_date, end=end_date)\n",
        "    return data"
      ]
    },
    {
      "cell_type": "markdown",
      "source": [
        "**Simple Moving average(SMA):-**\n",
        "\n",
        "A trend-following indicator that calculates the average of a specified number of closing prices, providing a smoothed representation of price movements over a defined period."
      ],
      "metadata": {
        "id": "DijvcC00pfql"
      }
    },
    {
      "cell_type": "markdown",
      "source": [
        "$SMA = \\frac{A_1 + A_2 + \\ldots + A_n}{n}$\n",
        "\n",
        "where:\n",
        "\n",
        "\\begin{align*}\n",
        "SMA & : \\text{Simple Moving Average} \\\\\n",
        "A_i & : \\text{Average in period } i \\text{ for } 1 \\leq i \\leq n \\\\\n",
        "n & : \\text{Number of time periods}\n",
        "\\end{align*}\n",
        "\n"
      ],
      "metadata": {
        "id": "Mng5_P3b7SVA"
      }
    },
    {
      "cell_type": "code",
      "source": [
        "def calculate_sma(data, window):\n",
        "    return data['Close'].rolling(window=window).mean()"
      ],
      "metadata": {
        "id": "vZIsRpZLVbil"
      },
      "execution_count": null,
      "outputs": []
    },
    {
      "cell_type": "markdown",
      "source": [
        "**Exponential Moving Average (EMA):-**\n",
        "\n",
        "A type of moving average that assigns more weight to recent prices, offering a faster response to price changes compared to the SMA."
      ],
      "metadata": {
        "id": "zikTaInDp_JC"
      }
    },
    {
      "cell_type": "markdown",
      "source": [
        "$ EMA_t = V_t \\cdot (1 + \\frac{1}{d_s}) + EMA_y \\cdot (1 - \\frac{1}{d_s}) $\n",
        "\n",
        "\n",
        "where:\n",
        "\n",
        "\\begin{align*}\n",
        "EMA_t & : \\text{EMA today} \\\\\n",
        "V_t & : \\text{Value today} \\\\\n",
        "EMA_y & : \\text{EMA yesterday} \\\\\n",
        "s & : \\text{Smoothing} \\\\\n",
        "d & : \\text{Number of days}\n",
        "\\end{align*}\n"
      ],
      "metadata": {
        "id": "oa7erSYL6Jvx"
      }
    },
    {
      "cell_type": "code",
      "source": [
        "def calculate_ema(data, span):\n",
        "    return data['Close'].ewm(span=span, adjust=False).mean()"
      ],
      "metadata": {
        "id": "t4dLHMQtp_fA"
      },
      "execution_count": null,
      "outputs": []
    },
    {
      "cell_type": "code",
      "source": [
        "symbol = 'IOC.NS'\n",
        "start_date = '2023-01-01'\n",
        "end_date = '2024-01-01'"
      ],
      "metadata": {
        "id": "dBbXhTttYHuj"
      },
      "execution_count": null,
      "outputs": []
    },
    {
      "cell_type": "code",
      "source": [
        "stock_data = get_stock_data(symbol, start_date, end_date)\n",
        "stock_data['SMA'] = calculate_sma(stock_data, window=20)\n",
        "stock_data['EMA'] = calculate_ema(stock_data, span=20)"
      ],
      "metadata": {
        "id": "gTZS--rJlWPu"
      },
      "execution_count": null,
      "outputs": []
    },
    {
      "cell_type": "code",
      "source": [
        "plt.figure(figsize=(9, 5))\n",
        "plt.plot(stock_data['Close'], label='Stock Price', color='blue')\n",
        "plt.plot(stock_data['SMA'], label='SMA (20 days)', color='red')\n",
        "plt.plot(stock_data['EMA'], label='EMA (20 days)', color='green')\n",
        "plt.title(f'{symbol} Stock Price and SMA')\n",
        "plt.xlabel('Date')\n",
        "plt.ylabel('Price')\n",
        "plt.legend()\n",
        "plt.show()"
      ],
      "metadata": {
        "id": "1ANXDtVxm6GN"
      },
      "execution_count": null,
      "outputs": []
    },
    {
      "cell_type": "markdown",
      "source": [
        "**Moving Average Convergence Divergence (MACD):-**\n",
        "\n",
        " A trend-following momentum indicator that reveals the relationship between two moving averages of an asset's price, consisting of a MACD line, signal line, and histogram, aiding in identifying potential trend reversals and strength.\n",
        "\n",
        "\n",
        "\n",
        "\n",
        "\n"
      ],
      "metadata": {
        "id": "mwhvhN8_qrNP"
      }
    },
    {
      "cell_type": "markdown",
      "source": [
        "**MACD** = *12-Period EMA* - *26-Period EMA*\n"
      ],
      "metadata": {
        "id": "9MmBOI1v7obg"
      }
    },
    {
      "cell_type": "code",
      "source": [
        "def calculate_macd(data, short_window, long_window, signal_window):\n",
        "    short_ema = calculate_ema(data, short_window)\n",
        "    long_ema = calculate_ema(data, long_window)\n",
        "    data['MACD'] = short_ema - long_ema\n",
        "    data['Signal_Line'] = data['MACD'].ewm(span=signal_window, adjust=False).mean()\n",
        "    data['Histogram'] = data['MACD'] - data['Signal_Line']"
      ],
      "metadata": {
        "id": "5DXo8MDLrChC"
      },
      "execution_count": null,
      "outputs": []
    },
    {
      "cell_type": "code",
      "source": [
        "stock_data = get_stock_data(symbol, start_date, end_date)\n",
        "calculate_macd(stock_data, short_window=12, long_window=26, signal_window=9)"
      ],
      "metadata": {
        "id": "L8Aga23Fxp03"
      },
      "execution_count": null,
      "outputs": []
    },
    {
      "cell_type": "code",
      "source": [
        "# Plotting MACD\n",
        "fig, axs = plt.subplots(2, 1, figsize=(10, 6), sharex=True, gridspec_kw={'hspace': 0.3})  # Adjust hspace for separation\n",
        "\n",
        "# Upper panel for stock price\n",
        "axs[0].plot(stock_data['Close'], label='Stock Price', color='blue')\n",
        "axs[0].set_title(f'{symbol} Stock Price')\n",
        "axs[0].set_ylabel('Price')\n",
        "axs[0].legend()\n",
        "\n",
        "# Lower panel for MACD, Signal Line, and Histogram\n",
        "axs[1].plot(stock_data['MACD'], label='MACD Line', color='blue')\n",
        "axs[1].plot(stock_data['Signal_Line'], label='Signal Line', color='red')\n",
        "axs[1].bar(stock_data.index, stock_data['Histogram'], label='Histogram', color='green', alpha=0.5)\n",
        "axs[1].axhline(0, color='gray', linestyle='--', linewidth=0.8)  # Add zero line for reference\n",
        "axs[1].set_title('MACD and Signal Line with Histogram')\n",
        "axs[1].set_xlabel('Date')\n",
        "axs[1].set_ylabel('MACD Value')\n",
        "axs[1].legend()"
      ],
      "metadata": {
        "id": "a8fezeTVcD30"
      },
      "execution_count": null,
      "outputs": []
    },
    {
      "cell_type": "markdown",
      "source": [
        "**Relative Strength Index(RSI):-**\n",
        "\n",
        " A momentum oscillator that measures the speed and change of price movements, indicating overbought or oversold conditions and potential trend reversal points."
      ],
      "metadata": {
        "id": "CLp5rPH-aEkT"
      }
    },
    {
      "cell_type": "markdown",
      "source": [
        "$$\n",
        "RSI = 100 - \\frac{100}{1 + \\frac{\\text{Average loss}}{\\text{Average gain}}}\n",
        "$$"
      ],
      "metadata": {
        "id": "p9IJHWfN-KFG"
      }
    },
    {
      "cell_type": "code",
      "source": [
        "def calculate_rsi(data, window):\n",
        "    price_diff = data['Close'].diff()\n",
        "    gain = price_diff.where(price_diff > 0, 0)\n",
        "    loss = -price_diff.where(price_diff < 0, 0)\n",
        "\n",
        "    avg_gain = gain.rolling(window=window, min_periods=1).mean()\n",
        "    avg_loss = loss.rolling(window=window, min_periods=1).mean()\n",
        "\n",
        "    rs = avg_gain / avg_loss\n",
        "    data['RSI'] = 100 - (100 / (1 + rs))"
      ],
      "metadata": {
        "id": "5tVvXe8CaE5o"
      },
      "execution_count": null,
      "outputs": []
    },
    {
      "cell_type": "code",
      "source": [
        "stock_data = get_stock_data(symbol, start_date, end_date)\n",
        "calculate_rsi(stock_data, window=14)"
      ],
      "metadata": {
        "id": "9CM9HRvxadCi"
      },
      "execution_count": null,
      "outputs": []
    },
    {
      "cell_type": "code",
      "source": [
        "# Plotting RSI\n",
        "fig, (ax1, ax2) = plt.subplots(2, 1, figsize=(12, 6), sharex=True)\n",
        "\n",
        "# Plotting Stock Price\n",
        "ax1.plot(stock_data['Close'], label='Stock Price', color='blue')\n",
        "ax1.set_title(f'{symbol} Stock Price')\n",
        "ax1.set_ylabel('Price')\n",
        "ax1.legend()\n",
        "\n",
        "# Plotting RSI\n",
        "ax2.plot(stock_data['RSI'], label='RSI', color='red')\n",
        "ax2.axhline(70, color='orange', linestyle='--', linewidth=1, label='Overbought (70)')\n",
        "ax2.axhline(30, color='green', linestyle='--', linewidth=1, label='Oversold (30)')\n",
        "\n",
        "# Fill between regions for Overbought and Oversold\n",
        "ax2.fill_between(stock_data.index, 70, stock_data['RSI'], where=stock_data['RSI'] > 70, interpolate=True, color='orange', alpha=0.3)\n",
        "ax2.fill_between(stock_data.index, 30, stock_data['RSI'], where=stock_data['RSI'] < 30, interpolate=True, color='green', alpha=0.3)\n",
        "\n",
        "ax2.set_title(f'{symbol} RSI')\n",
        "ax2.set_xlabel('Date')\n",
        "ax2.set_ylabel('RSI')\n",
        "ax2.legend()\n",
        "\n",
        "plt.show()"
      ],
      "metadata": {
        "id": "G9kY_nRpajbo"
      },
      "execution_count": null,
      "outputs": []
    },
    {
      "cell_type": "markdown",
      "source": [
        "**Bollinger Bands:-**\n",
        "\n",
        " Volatility indicators that consist of a middle band being an SMA and upper/lower bands representing a certain number of standard deviations away, helping identify potential reversal points and volatility changes."
      ],
      "metadata": {
        "id": "BqtnrUdUmyni"
      }
    },
    {
      "cell_type": "markdown",
      "source": [
        "\\\n",
        "\\begin{align*}\n",
        "BOLU & = \\text{MA}(TP, n) + m \\times \\sigma[TP, n] \\\\\n",
        "BOLD & = \\text{MA}(TP, n) - m \\times \\sigma[TP, n]\n",
        "\\end{align*}\n",
        "\n",
        "\n",
        "where:\n",
        "\\begin{align*}\n",
        "BOLU & : \\text{Upper Bollinger Band} \\\\\n",
        "BOLD & : \\text{Lower Bollinger Band} \\\\\n",
        "\\text{MA} & : \\text{Moving average} \\\\\n",
        "TP & : \\text{Typical price} = \\frac{{\\text{High} + \\text{Low} + \\text{Close}}}{3} \\\\\n",
        "n & : \\text{Number of days in smoothing period (typically 20)} \\\\\n",
        "m & : \\text{Number of standard deviations (typically 2)} \\\\\n",
        "\\sigma[TP, n] & : \\text{Standard Deviation over the last } n \\text{ periods of } TP\n",
        "\\end{align*}\n",
        "\n"
      ],
      "metadata": {
        "id": "AL-W27CkHUGA"
      }
    },
    {
      "cell_type": "code",
      "source": [
        "def calculate_bollinger_bands(data, window, num_std_dev=2):\n",
        "    sma = data['Close'].rolling(window=window).mean()\n",
        "    std = data['Close'].rolling(window=window).std()\n",
        "    upper_band = sma + (num_std_dev * std)\n",
        "    lower_band = sma - (num_std_dev * std)\n",
        "    data['Upper_Band'] = upper_band\n",
        "    data['Lower_Band'] = lower_band"
      ],
      "metadata": {
        "id": "Z7XmqL-TnA3B"
      },
      "execution_count": null,
      "outputs": []
    },
    {
      "cell_type": "code",
      "source": [
        "stock_data = get_stock_data(symbol, start_date, end_date)\n",
        "calculate_bollinger_bands(stock_data, window=20)"
      ],
      "metadata": {
        "id": "FYwbvKI6nLgn"
      },
      "execution_count": null,
      "outputs": []
    },
    {
      "cell_type": "code",
      "source": [
        "# Plotting Stock Price with Bollinger Bands\n",
        "plt.figure(figsize=(12, 6))\n",
        "plt.plot(stock_data['Close'], label='Stock Price', color='blue')\n",
        "plt.plot(stock_data['Upper_Band'], label='Upper Band', color='red', linestyle='--')\n",
        "plt.plot(stock_data['Lower_Band'], label='Lower Band', color='green', linestyle='--')\n",
        "plt.plot(stock_data['Close'].rolling(window=20).mean(), label='SMA (20 days)', color='orange', linestyle='--')\n",
        "plt.title(f'{symbol} Stock Price with Bollinger Bands')\n",
        "plt.xlabel('Date')\n",
        "plt.ylabel('Price')\n",
        "plt.legend()\n",
        "plt.show()"
      ],
      "metadata": {
        "id": "RUXUO9KqnOm8"
      },
      "execution_count": null,
      "outputs": []
    }
  ]
}